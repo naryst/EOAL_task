{
 "cells": [
  {
   "cell_type": "code",
   "execution_count": 22,
   "outputs": [],
   "source": [
    "import numpy as np\n",
    "from gurobipy import *\n",
    "import gurobipy as gp\n",
    "from gurobipy import GRB"
   ],
   "metadata": {
    "collapsed": false,
    "ExecuteTime": {
     "start_time": "2023-05-22T10:55:15.880374Z",
     "end_time": "2023-05-22T10:55:15.890095Z"
    }
   }
  },
  {
   "cell_type": "code",
   "execution_count": 23,
   "outputs": [
    {
     "data": {
      "text/plain": "<gurobipy.Env, Parameter changes: OutputFlag=0>"
     },
     "execution_count": 23,
     "metadata": {},
     "output_type": "execute_result"
    }
   ],
   "source": [
    "env = gp.Env(empty=True)\n",
    "env.setParam(\"OutputFlag\", 0)\n",
    "env.start()"
   ],
   "metadata": {
    "collapsed": false,
    "ExecuteTime": {
     "start_time": "2023-05-22T10:55:15.890451Z",
     "end_time": "2023-05-22T10:55:15.937431Z"
    }
   }
  },
  {
   "cell_type": "code",
   "execution_count": 24,
   "outputs": [],
   "source": [
    "def second_stage_solution_underloaded(c_reduced, a, x, b_true):\n",
    "    n = len(c_reduced)  # Number of variables\n",
    "\n",
    "    b_underload = b_true - sum(a[i] * x[i] for i in range(n))\n",
    "\n",
    "    # Create a new model\n",
    "    model = gp.Model(\"optimization_problem\", env=env)\n",
    "\n",
    "    # Create decision variables\n",
    "    y_plus = model.addVars(n, vtype=GRB.CONTINUOUS, lb=0, ub=1, name=\"y_plus\")\n",
    "\n",
    "    # Set objective function\n",
    "    model.setObjective(\n",
    "        sum(c_reduced[i] * y_plus[i] for i in range(n)), sense=GRB.MAXIMIZE\n",
    "    )\n",
    "\n",
    "    # Add constraints\n",
    "    for k in range(n):\n",
    "        model.addConstr(y_plus[k] <= 1 - x[k])\n",
    "\n",
    "    model.addConstr(sum(a[i] * y_plus[i] for i in range(n)) <= b_underload)\n",
    "\n",
    "    # Optimize the model\n",
    "    model.optimize()\n",
    "\n",
    "    # Retrieve the solution\n",
    "    if model.status == GRB.OPTIMAL:\n",
    "        optimal_solution = [y_plus[i].x for i in range(n)]\n",
    "        optimal_objective = model.objVal\n",
    "        return optimal_solution, optimal_objective\n",
    "    else:\n",
    "        # print(\"No solution found\")\n",
    "        return [0] * n, 0"
   ],
   "metadata": {
    "collapsed": false,
    "ExecuteTime": {
     "start_time": "2023-05-22T10:55:15.933058Z",
     "end_time": "2023-05-22T10:55:15.937898Z"
    }
   }
  },
  {
   "cell_type": "code",
   "execution_count": 181,
   "outputs": [],
   "source": [
    "def second_stage_solution_overloaded(d, x, a, b_true):\n",
    "    n = len(x)  # Number of variables\n",
    "\n",
    "    b_overload = sum(a[i] * x[i] for i in range(n)) - b_true\n",
    "\n",
    "    # Create a new model\n",
    "    model = gp.Model(\"optimization_problem\", env=env)\n",
    "\n",
    "    # Create decision variables\n",
    "    y_minus = model.addVars(n, vtype=GRB.CONTINUOUS, lb=0, ub=1, name=\"y_minus\")\n",
    "\n",
    "    # Set objective function\n",
    "    model.setObjective(sum(d * y_minus[i] for i in range(n)), sense=GRB.MINIMIZE)\n",
    "\n",
    "    # Add constraints\n",
    "    for k in range(n):\n",
    "        model.addConstr(y_minus[k] <= x[k])\n",
    "\n",
    "    model.addConstr(sum(a[i] * y_minus[i] for i in range(n)) >= b_overload)\n",
    "\n",
    "    # Optimize the model\n",
    "    model.optimize()\n",
    "\n",
    "    # Retrieve the solution\n",
    "    if model.status == GRB.OPTIMAL:\n",
    "        optimal_solution = [y_minus[i].x for i in range(n)]\n",
    "        optimal_objective = model.objVal\n",
    "        return optimal_solution, optimal_objective\n",
    "    else:\n",
    "        # print(\"No solution found\")\n",
    "        return [0] * n, 0"
   ],
   "metadata": {
    "collapsed": false,
    "ExecuteTime": {
     "start_time": "2023-05-22T12:35:55.440806Z",
     "end_time": "2023-05-22T12:35:55.485007Z"
    }
   }
  },
  {
   "cell_type": "code",
   "execution_count": 182,
   "outputs": [],
   "source": [
    "from scipy.stats import norm\n",
    "\n",
    "\n",
    "def norm_cdf(x, mu, sigma):\n",
    "    return norm.cdf(x, loc=mu, scale=sigma)"
   ],
   "metadata": {
    "collapsed": false,
    "ExecuteTime": {
     "start_time": "2023-05-22T12:35:55.614798Z",
     "end_time": "2023-05-22T12:35:55.635783Z"
    }
   }
  },
  {
   "cell_type": "code",
   "execution_count": 183,
   "outputs": [],
   "source": [
    "def first_stage_solution(c, a, b_stochastic):\n",
    "    # print(\"xi: \", xi)\n",
    "\n",
    "    n = len(c)  # Number of variables\n",
    "\n",
    "    # Create a new model\n",
    "    model = gp.Model(\"first_stage_problem\", env=env)\n",
    "\n",
    "    # Create decision variables\n",
    "    x = model.addVars(n, vtype=GRB.CONTINUOUS, lb=0, ub=1, name=\"x\")\n",
    "\n",
    "    # Set objective function\n",
    "    model.setObjective(sum(c[i] * x[i] for i in range(n)), sense=GRB.MAXIMIZE)\n",
    "\n",
    "    # Add constraints\n",
    "    model.addConstr(sum(a[i] * x[i] for i in range(n)) <= b_stochastic)\n",
    "\n",
    "    # Optimize the model\n",
    "    model.optimize()\n",
    "\n",
    "    # Retrieve the solution\n",
    "    if model.status == GRB.OPTIMAL:\n",
    "        optimal_solution = [x[i].x for i in range(n)]\n",
    "        optimal_objective = model.objVal\n",
    "        return optimal_solution, optimal_objective\n",
    "    else:\n",
    "        return None"
   ],
   "metadata": {
    "collapsed": false,
    "ExecuteTime": {
     "start_time": "2023-05-22T12:35:55.800983Z",
     "end_time": "2023-05-22T12:35:55.818696Z"
    }
   }
  },
  {
   "cell_type": "code",
   "execution_count": 238,
   "outputs": [],
   "source": [
    "n = 10  # number of items in the knapsack\n",
    "a = [3, 10, 5, 7, 4, 1, 6, 2, 8, 1]  # weights\n",
    "c = [1, 2, 3, 4, 5, 6, 7, 8, 9, 10]  # values\n",
    "\n",
    "b = 15  # capacity of the knapsack\n",
    "nu = 0  # mean of the normal distribution\n",
    "sigma = 10  # standard deviation of the normal distribution\n",
    "epsilon = 7  # threshold for the normal distribution\n",
    "d = 10  # cost of overloading the knapsack\n",
    "c_redused = [c[i] / 2 for i in range(n)]  # cost of underloading the knapsack\n",
    "\n",
    "N = 10000  # number of scenarios\n",
    "\n",
    "\n",
    "def sample_average_approximation(a, c, b, nu, sigma, epsilon, d, c_redused, N):\n",
    "    first_st_sol = []\n",
    "    second_st_sol_un = []\n",
    "    second_st_sol_ov = []\n",
    "    xis = []\n",
    "\n",
    "    distribution = norm(loc=nu, scale=sigma)\n",
    "\n",
    "    true_xi = distribution.rvs()\n",
    "    while abs(true_xi) > epsilon:\n",
    "        true_xi = distribution.rvs()\n",
    "\n",
    "    true_b = b + true_xi\n",
    "\n",
    "    for i in range(N):\n",
    "        xi = distribution.rvs()\n",
    "        while abs(xi) > epsilon:\n",
    "            xi = distribution.rvs()\n",
    "        b_stochastic = b + xi\n",
    "\n",
    "        x, obj = first_stage_solution(c, a, b_stochastic)\n",
    "        y_plus, obj_plus = second_stage_solution_underloaded(c_redused, a, x, true_b)\n",
    "        y_minus, obj_minus = second_stage_solution_overloaded(d, x, a, true_b)\n",
    "\n",
    "        first_st_sol.append(obj)\n",
    "        second_st_sol_un.append(obj_plus)\n",
    "        second_st_sol_ov.append(obj_minus)\n",
    "        xis.append(xi)\n",
    "    return first_st_sol, second_st_sol_un, second_st_sol_ov, xis, true_xi"
   ],
   "metadata": {
    "collapsed": false,
    "ExecuteTime": {
     "start_time": "2023-05-22T17:18:42.160534Z",
     "end_time": "2023-05-22T17:18:42.206637Z"
    }
   }
  },
  {
   "cell_type": "code",
   "execution_count": 218,
   "outputs": [],
   "source": [
    "(\n",
    "    first_st_sol,\n",
    "    second_st_sol_un,\n",
    "    second_st_sol_ov,\n",
    "    xis,\n",
    "    true_xi,\n",
    ") = sample_average_approximation(a, c, b, nu, sigma, epsilon, d, c_redused, N)"
   ],
   "metadata": {
    "collapsed": false,
    "ExecuteTime": {
     "start_time": "2023-05-22T12:37:53.641340Z",
     "end_time": "2023-05-22T12:38:04.279066Z"
    }
   }
  },
  {
   "cell_type": "code",
   "execution_count": 219,
   "outputs": [
    {
     "data": {
      "text/plain": "6.785710475669253"
     },
     "execution_count": 219,
     "metadata": {},
     "output_type": "execute_result"
    }
   ],
   "source": [
    "true_xi"
   ],
   "metadata": {
    "collapsed": false,
    "ExecuteTime": {
     "start_time": "2023-05-22T12:38:04.281860Z",
     "end_time": "2023-05-22T12:38:04.284898Z"
    }
   }
  },
  {
   "cell_type": "code",
   "execution_count": 220,
   "outputs": [],
   "source": [
    "final_obj = []\n",
    "for i in range(N):\n",
    "    final_obj.append(first_st_sol[i] + second_st_sol_un[i] - second_st_sol_ov[i])"
   ],
   "metadata": {
    "collapsed": false,
    "ExecuteTime": {
     "start_time": "2023-05-22T12:38:04.285543Z",
     "end_time": "2023-05-22T12:38:04.295868Z"
    }
   }
  },
  {
   "cell_type": "code",
   "execution_count": 221,
   "outputs": [
    {
     "data": {
      "text/plain": "<Figure size 640x480 with 1 Axes>",
      "image/png": "[encoded data removed]"
     },
     "metadata": {},
     "output_type": "display_data"
    }
   ],
   "source": [
    "import matplotlib.pyplot as plt\n",
    "\n",
    "plt.hist(final_obj, bins=100)\n",
    "plt.show()"
   ],
   "metadata": {
    "collapsed": false,
    "ExecuteTime": {
     "start_time": "2023-05-22T12:38:04.338008Z",
     "end_time": "2023-05-22T12:38:04.568635Z"
    }
   }
  },
  {
   "cell_type": "code",
   "execution_count": 222,
   "outputs": [
    {
     "name": "stdout",
     "output_type": "stream",
     "text": [
      "Mean:  37.098039109999185\n",
      "Standard deviation:  4.471015584560811\n",
      "Minimum:  29.00104378844516\n",
      "Maximum:  44.758708066411074\n"
     ]
    }
   ],
   "source": [
    "print(\"Mean: \", np.mean(final_obj))\n",
    "print(\"Standard deviation: \", np.std(final_obj))\n",
    "print(\"Minimum: \", min(final_obj))\n",
    "print(\"Maximum: \", max(final_obj))"
   ],
   "metadata": {
    "collapsed": false,
    "ExecuteTime": {
     "start_time": "2023-05-22T12:38:04.508049Z",
     "end_time": "2023-05-22T12:38:04.568829Z"
    }
   }
  },
  {
   "cell_type": "code",
   "execution_count": 223,
   "outputs": [
    {
     "data": {
      "text/plain": "<Figure size 640x480 with 1 Axes>",
      "image/png": "[encoded data removed]"
     },
     "metadata": {},
     "output_type": "display_data"
    }
   ],
   "source": [
    "plt.hist(xis, bins=100)\n",
    "plt.show()"
   ],
   "metadata": {
    "collapsed": false,
    "ExecuteTime": {
     "start_time": "2023-05-22T12:38:04.508216Z",
     "end_time": "2023-05-22T12:38:04.723260Z"
    }
   }
  },
  {
   "cell_type": "code",
   "execution_count": 224,
   "outputs": [],
   "source": [
    "max_arg = np.argmax(final_obj)\n",
    "min_arg = np.argmin(final_obj)"
   ],
   "metadata": {
    "collapsed": false,
    "ExecuteTime": {
     "start_time": "2023-05-22T12:38:04.678201Z",
     "end_time": "2023-05-22T12:38:04.723413Z"
    }
   }
  },
  {
   "cell_type": "code",
   "execution_count": 225,
   "outputs": [
    {
     "data": {
      "text/plain": "(6.787440225403994, -6.999105324189862)"
     },
     "execution_count": 225,
     "metadata": {},
     "output_type": "execute_result"
    }
   ],
   "source": [
    "xis[max_arg], xis[min_arg]"
   ],
   "metadata": {
    "collapsed": false,
    "ExecuteTime": {
     "start_time": "2023-05-22T12:38:04.678404Z",
     "end_time": "2023-05-22T12:38:04.723530Z"
    }
   }
  },
  {
   "cell_type": "code",
   "execution_count": 226,
   "outputs": [],
   "source": [
    "max_xi = xis[max_arg]"
   ],
   "metadata": {
    "collapsed": false,
    "ExecuteTime": {
     "start_time": "2023-05-22T12:38:04.678696Z",
     "end_time": "2023-05-22T12:38:04.723574Z"
    }
   }
  },
  {
   "cell_type": "code",
   "execution_count": 239,
   "outputs": [
    {
     "data": {
      "text/plain": "32.98287327851308"
     },
     "execution_count": 239,
     "metadata": {},
     "output_type": "execute_result"
    }
   ],
   "source": [
    "x, obj = first_stage_solution(c, a, b + true_xi)\n",
    "obj"
   ],
   "metadata": {
    "collapsed": false,
    "ExecuteTime": {
     "start_time": "2023-05-22T17:19:32.162672Z",
     "end_time": "2023-05-22T17:19:32.203392Z"
    }
   }
  },
  {
   "cell_type": "code",
   "execution_count": 275,
   "outputs": [],
   "source": [
    "def sample_average_approximation_robust(\n",
    "    a, c, b, nu, sigma, epsilon, d, c_redused, N, polarity\n",
    "):\n",
    "    first_st_sol = []\n",
    "    second_st_sol_un = []\n",
    "    second_st_sol_ov = []\n",
    "    xis = []\n",
    "\n",
    "    distribution = norm(loc=nu, scale=sigma)\n",
    "\n",
    "    true_xi = distribution.rvs()\n",
    "    while abs(true_xi) > epsilon:\n",
    "        true_xi = distribution.rvs()\n",
    "\n",
    "    true_b = b + true_xi\n",
    "\n",
    "    for i in range(N):\n",
    "        xi = distribution.rvs()\n",
    "        while abs(xi) > epsilon:\n",
    "            xi = distribution.rvs()\n",
    "        b_stochastic = b + xi\n",
    "\n",
    "        if polarity == \"underload\":\n",
    "            b_stochastic -= epsilon\n",
    "        elif polarity == \"overload\":\n",
    "            b_stochastic += epsilon\n",
    "        else:\n",
    "            raise NotImplemented\n",
    "\n",
    "        x, obj = first_stage_solution(c, a, b_stochastic)\n",
    "        y_plus, obj_plus = second_stage_solution_underloaded(c_redused, a, x, true_b)\n",
    "        y_minus, obj_minus = second_stage_solution_overloaded(d, x, a, true_b)\n",
    "\n",
    "        first_st_sol.append(obj)\n",
    "        second_st_sol_un.append(obj_plus)\n",
    "        second_st_sol_ov.append(obj_minus)\n",
    "        xis.append(xi)\n",
    "    return first_st_sol, second_st_sol_un, second_st_sol_ov, xis, true_xi"
   ],
   "metadata": {
    "collapsed": false,
    "ExecuteTime": {
     "start_time": "2023-05-22T17:24:38.450121Z",
     "end_time": "2023-05-22T17:24:38.492861Z"
    }
   }
  },
  {
   "cell_type": "code",
   "execution_count": 304,
   "outputs": [],
   "source": [
    "d = 10\n",
    "c_redused = [-c[i] / 2 for i in range(n)]  # cost of underloading the knapsack"
   ],
   "metadata": {
    "collapsed": false,
    "ExecuteTime": {
     "start_time": "2023-05-22T18:58:43.591464Z",
     "end_time": "2023-05-22T18:58:43.632813Z"
    }
   }
  },
  {
   "cell_type": "code",
   "execution_count": 310,
   "outputs": [
    {
     "data": {
      "text/plain": "1.898050105729058"
     },
     "execution_count": 310,
     "metadata": {},
     "output_type": "execute_result"
    }
   ],
   "source": [
    "(\n",
    "    first_st_sol,\n",
    "    second_st_sol_un,\n",
    "    second_st_sol_ov,\n",
    "    xis,\n",
    "    true_xi,\n",
    ") = sample_average_approximation_robust(\n",
    "    a, c, b, nu, sigma, epsilon, d, c_redused, N, \"underload\"\n",
    ")\n",
    "true_xi"
   ],
   "metadata": {
    "collapsed": false,
    "ExecuteTime": {
     "start_time": "2023-05-22T18:59:53.669331Z",
     "end_time": "2023-05-22T19:00:04.536954Z"
    }
   }
  },
  {
   "cell_type": "code",
   "execution_count": 311,
   "outputs": [],
   "source": [
    "final_obj = []\n",
    "for i in range(N):\n",
    "    final_obj.append(first_st_sol[i] + second_st_sol_un[i] - second_st_sol_ov[i])"
   ],
   "metadata": {
    "collapsed": false,
    "ExecuteTime": {
     "start_time": "2023-05-22T19:00:04.535332Z",
     "end_time": "2023-05-22T19:00:04.537051Z"
    }
   }
  },
  {
   "cell_type": "code",
   "execution_count": 312,
   "outputs": [
    {
     "name": "stdout",
     "output_type": "stream",
     "text": [
      "Mean:  27.981716529752106\n",
      "Standard deviation:  6.2643600642593515\n",
      "Minimum:  10.002140785636687\n",
      "Maximum:  37.12330302872257\n"
     ]
    }
   ],
   "source": [
    "print(\"Mean: \", np.mean(final_obj))\n",
    "print(\"Standard deviation: \", np.std(final_obj))\n",
    "print(\"Minimum: \", min(final_obj))\n",
    "print(\"Maximum: \", max(final_obj))"
   ],
   "metadata": {
    "collapsed": false,
    "ExecuteTime": {
     "start_time": "2023-05-22T19:00:04.538302Z",
     "end_time": "2023-05-22T19:00:04.556201Z"
    }
   }
  },
  {
   "cell_type": "code",
   "execution_count": 313,
   "outputs": [
    {
     "data": {
      "text/plain": "39.260306368945194"
     },
     "execution_count": 313,
     "metadata": {},
     "output_type": "execute_result"
    }
   ],
   "source": [
    "x, obj = first_stage_solution(c, a, b + true_xi)\n",
    "obj"
   ],
   "metadata": {
    "collapsed": false,
    "ExecuteTime": {
     "start_time": "2023-05-22T19:00:04.595580Z",
     "end_time": "2023-05-22T19:00:04.595860Z"
    }
   }
  },
  {
   "cell_type": "code",
   "execution_count": 309,
   "outputs": [
    {
     "data": {
      "text/plain": "0.09738163447238496"
     },
     "execution_count": 309,
     "metadata": {},
     "output_type": "execute_result"
    }
   ],
   "source": [
    "(\n",
    "    first_st_sol,\n",
    "    second_st_sol_un,\n",
    "    second_st_sol_ov,\n",
    "    xis,\n",
    "    true_xi,\n",
    ") = sample_average_approximation_robust(\n",
    "    a, c, b, nu, sigma, epsilon, d, c_redused, N, \"overload\"\n",
    ")\n",
    "true_xi"
   ],
   "metadata": {
    "collapsed": false,
    "ExecuteTime": {
     "start_time": "2023-05-22T18:58:55.245963Z",
     "end_time": "2023-05-22T18:59:05.840042Z"
    }
   }
  },
  {
   "cell_type": "code",
   "execution_count": 301,
   "outputs": [],
   "source": [
    "final_obj = []\n",
    "for i in range(N):\n",
    "    final_obj.append(first_st_sol[i] + second_st_sol_un[i] - second_st_sol_ov[i])"
   ],
   "metadata": {
    "collapsed": false,
    "ExecuteTime": {
     "start_time": "2023-05-22T18:15:40.122745Z",
     "end_time": "2023-05-22T18:15:40.125913Z"
    }
   }
  },
  {
   "cell_type": "code",
   "execution_count": 302,
   "outputs": [
    {
     "name": "stdout",
     "output_type": "stream",
     "text": [
      "Mean:  36.725982943742366\n",
      "Standard deviation:  2.001926507039612\n",
      "Minimum:  31.900190710672504\n",
      "Maximum:  38.664528513596835\n"
     ]
    }
   ],
   "source": [
    "print(\"Mean: \", np.mean(final_obj))\n",
    "print(\"Standard deviation: \", np.std(final_obj))\n",
    "print(\"Minimum: \", min(final_obj))\n",
    "print(\"Maximum: \", max(final_obj))"
   ],
   "metadata": {
    "collapsed": false,
    "ExecuteTime": {
     "start_time": "2023-05-22T18:15:40.125973Z",
     "end_time": "2023-05-22T18:15:40.133430Z"
    }
   }
  },
  {
   "cell_type": "code",
   "execution_count": 303,
   "outputs": [
    {
     "data": {
      "text/plain": "38.66467037395117"
     },
     "execution_count": 303,
     "metadata": {},
     "output_type": "execute_result"
    }
   ],
   "source": [
    "x, obj = first_stage_solution(c, a, b + true_xi)\n",
    "obj"
   ],
   "metadata": {
    "collapsed": false,
    "ExecuteTime": {
     "start_time": "2023-05-22T18:15:40.176058Z",
     "end_time": "2023-05-22T18:15:40.188904Z"
    }
   }
  },
  {
   "cell_type": "code",
   "execution_count": null,
   "outputs": [],
   "source": [],
   "metadata": {
    "collapsed": false
   }
  }
 ],
 "metadata": {
  "kernelspec": {
   "display_name": "Python 3",
   "language": "python",
   "name": "python3"
  },
  "language_info": {
   "codemirror_mode": {
    "name": "ipython",
    "version": 2
   },
   "file_extension": ".py",
   "mimetype": "text/x-python",
   "name": "python",
   "nbconvert_exporter": "python",
   "pygments_lexer": "ipython2",
   "version": "2.7.6"
  }
 },
 "nbformat": 4,
 "nbformat_minor": 0
}
