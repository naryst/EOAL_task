{
 "cells": [
  {
   "cell_type": "code",
   "execution_count": 1,
   "outputs": [],
   "source": [
    "import numpy as np\n",
    "from gurobipy import *\n",
    "import gurobipy as gp\n",
    "from gurobipy import GRB"
   ],
   "metadata": {
    "collapsed": false,
    "ExecuteTime": {
     "start_time": "2023-05-27T00:20:05.913408Z",
     "end_time": "2023-05-27T00:20:06.198621Z"
    }
   }
  },
  {
   "cell_type": "code",
   "execution_count": 2,
   "outputs": [
    {
     "data": {
      "text/plain": "<gurobipy.Env, Parameter changes: OutputFlag=0>"
     },
     "execution_count": 2,
     "metadata": {},
     "output_type": "execute_result"
    }
   ],
   "source": [
    "env = gp.Env(empty=True)\n",
    "env.setParam(\"OutputFlag\", 0)\n",
    "env.start()"
   ],
   "metadata": {
    "collapsed": false,
    "ExecuteTime": {
     "start_time": "2023-05-27T00:20:06.102456Z",
     "end_time": "2023-05-27T00:20:06.247311Z"
    }
   }
  },
  {
   "cell_type": "code",
   "execution_count": 3,
   "outputs": [],
   "source": [
    "def second_stage_solution_underloaded(c_reduced, a, x, b_true):\n",
    "    n = len(c_reduced)  # Number of variables\n",
    "\n",
    "    b_underload = b_true - sum(a[i] * x[i] for i in range(n))\n",
    "\n",
    "    # Create a new model\n",
    "    model = gp.Model(\"optimization_problem\", env=env)\n",
    "\n",
    "    # Create decision variables\n",
    "    y_plus = model.addVars(n, vtype=GRB.CONTINUOUS, lb=0, ub=1, name=\"y_plus\")\n",
    "\n",
    "    # Set objective function\n",
    "    model.setObjective(\n",
    "        sum(c_reduced[i] * y_plus[i] for i in range(n)), sense=GRB.MAXIMIZE\n",
    "    )\n",
    "\n",
    "    # Add constraints\n",
    "    for k in range(n):\n",
    "        model.addConstr(y_plus[k] <= 1 - x[k])\n",
    "\n",
    "    model.addConstr(sum(a[i] * y_plus[i] for i in range(n)) <= b_underload)\n",
    "\n",
    "    # Optimize the model\n",
    "    model.optimize()\n",
    "\n",
    "    # Retrieve the solution\n",
    "    if model.status == GRB.OPTIMAL:\n",
    "        optimal_solution = [y_plus[i].x for i in range(n)]\n",
    "        optimal_objective = model.objVal\n",
    "        return optimal_solution, optimal_objective\n",
    "    else:\n",
    "        # print(\"No solution found\")\n",
    "        return [0] * n, 0"
   ],
   "metadata": {
    "collapsed": false,
    "ExecuteTime": {
     "start_time": "2023-05-27T00:20:06.103551Z",
     "end_time": "2023-05-27T00:20:06.248138Z"
    }
   }
  },
  {
   "cell_type": "code",
   "execution_count": 4,
   "outputs": [],
   "source": [
    "def second_stage_solution_overloaded(d, x, a, b_true):\n",
    "    n = len(x)  # Number of variables\n",
    "\n",
    "    b_overload = sum(a[i] * x[i] for i in range(n)) - b_true\n",
    "\n",
    "    # Create a new model\n",
    "    model = gp.Model(\"optimization_problem\", env=env)\n",
    "\n",
    "    # Create decision variables\n",
    "    y_minus = model.addVars(n, vtype=GRB.CONTINUOUS, lb=0, ub=1, name=\"y_minus\")\n",
    "\n",
    "    # Set objective function\n",
    "    model.setObjective(sum(d * y_minus[i] for i in range(n)), sense=GRB.MINIMIZE)\n",
    "\n",
    "    # Add constraints\n",
    "    for k in range(n):\n",
    "        model.addConstr(y_minus[k] <= x[k])\n",
    "\n",
    "    model.addConstr(sum(a[i] * y_minus[i] for i in range(n)) >= b_overload)\n",
    "\n",
    "    # Optimize the model\n",
    "    model.optimize()\n",
    "\n",
    "    # Retrieve the solution\n",
    "    if model.status == GRB.OPTIMAL:\n",
    "        optimal_solution = [y_minus[i].x for i in range(n)]\n",
    "        optimal_objective = model.objVal\n",
    "        return optimal_solution, optimal_objective\n",
    "    else:\n",
    "        # print(\"No solution found\")\n",
    "        return [0] * n, 0"
   ],
   "metadata": {
    "collapsed": false,
    "ExecuteTime": {
     "start_time": "2023-05-27T00:20:06.103873Z",
     "end_time": "2023-05-27T00:20:06.248656Z"
    }
   }
  },
  {
   "cell_type": "code",
   "execution_count": 5,
   "outputs": [],
   "source": [
    "from scipy.stats import norm\n",
    "\n",
    "\n",
    "def norm_cdf(x, mu, sigma):\n",
    "    return norm.cdf(x, loc=mu, scale=sigma)"
   ],
   "metadata": {
    "collapsed": false,
    "ExecuteTime": {
     "start_time": "2023-05-27T00:20:06.104329Z",
     "end_time": "2023-05-27T00:20:06.542071Z"
    }
   }
  },
  {
   "cell_type": "code",
   "execution_count": 6,
   "outputs": [],
   "source": [
    "def first_stage_solution(c, a, b_stochastic):\n",
    "    # print(\"xi: \", xi)\n",
    "\n",
    "    n = len(c)  # Number of variables\n",
    "\n",
    "    # Create a new model\n",
    "    model = gp.Model(\"first_stage_problem\", env=env)\n",
    "\n",
    "    # Create decision variables\n",
    "    x = model.addVars(n, vtype=GRB.CONTINUOUS, lb=0, ub=1, name=\"x\")\n",
    "\n",
    "    # Set objective function\n",
    "    model.setObjective(sum(c[i] * x[i] for i in range(n)), sense=GRB.MAXIMIZE)\n",
    "\n",
    "    # Add constraints\n",
    "    model.addConstr(sum(a[i] * x[i] for i in range(n)) <= b_stochastic)\n",
    "\n",
    "    # Optimize the model\n",
    "    model.optimize()\n",
    "\n",
    "    # Retrieve the solution\n",
    "    if model.status == GRB.OPTIMAL:\n",
    "        optimal_solution = [x[i].x for i in range(n)]\n",
    "        optimal_objective = model.objVal\n",
    "        return optimal_solution, optimal_objective\n",
    "    else:\n",
    "        return None"
   ],
   "metadata": {
    "collapsed": false,
    "ExecuteTime": {
     "start_time": "2023-05-27T00:20:06.528271Z",
     "end_time": "2023-05-27T00:20:06.542811Z"
    }
   }
  },
  {
   "cell_type": "code",
   "execution_count": 7,
   "outputs": [],
   "source": [
    "n = 10  # number of items in the knapsack\n",
    "a = [3, 10, 5, 7, 4, 1, 6, 2, 8, 1]  # weights\n",
    "c = [1, 2, 3, 4, 5, 6, 7, 8, 9, 10]  # values\n",
    "\n",
    "b = 15  # capacity of the knapsack\n",
    "nu = 0  # mean of the normal distribution\n",
    "sigma = 10  # standard deviation of the normal distribution\n",
    "epsilon = 7  # threshold for the normal distribution\n",
    "d = 12  # cost of overloading the knapsack\n",
    "c_redused = [c[i] / 2 for i in range(n)]  # cost of underloading the knapsack\n",
    "\n",
    "N = 10000  # number of scenarios\n",
    "\n",
    "\n",
    "def sample_average_approximation(a, c, b, nu, sigma, epsilon, d, c_redused, N):\n",
    "    first_st_sol = []\n",
    "    second_st_sol_un = []\n",
    "    second_st_sol_ov = []\n",
    "    xis = []\n",
    "\n",
    "    distribution = norm(loc=nu, scale=sigma)\n",
    "\n",
    "    true_xi = distribution.rvs()\n",
    "    while abs(true_xi) > epsilon:\n",
    "        true_xi = distribution.rvs()\n",
    "\n",
    "    true_b = b + true_xi\n",
    "\n",
    "    for i in range(N):\n",
    "        xi = distribution.rvs()\n",
    "        while abs(xi) > epsilon:\n",
    "            xi = distribution.rvs()\n",
    "        b_stochastic = b + xi\n",
    "\n",
    "        x, obj = first_stage_solution(c, a, b_stochastic)\n",
    "        y_plus, obj_plus = second_stage_solution_underloaded(c_redused, a, x, true_b)\n",
    "        y_minus, obj_minus = second_stage_solution_overloaded(d, x, a, true_b)\n",
    "\n",
    "        first_st_sol.append(obj)\n",
    "        second_st_sol_un.append(obj_plus)\n",
    "        second_st_sol_ov.append(obj_minus)\n",
    "        xis.append(xi)\n",
    "    return first_st_sol, second_st_sol_un, second_st_sol_ov, xis, true_xi"
   ],
   "metadata": {
    "collapsed": false,
    "ExecuteTime": {
     "start_time": "2023-05-27T00:20:06.544901Z",
     "end_time": "2023-05-27T00:20:06.567306Z"
    }
   }
  },
  {
   "cell_type": "code",
   "execution_count": 8,
   "outputs": [],
   "source": [
    "(\n",
    "    first_st_sol,\n",
    "    second_st_sol_un,\n",
    "    second_st_sol_ov,\n",
    "    xis,\n",
    "    true_xi,\n",
    ") = sample_average_approximation(a, c, b, nu, sigma, epsilon, d, c_redused, N)"
   ],
   "metadata": {
    "collapsed": false,
    "ExecuteTime": {
     "start_time": "2023-05-27T00:20:06.552084Z",
     "end_time": "2023-05-27T00:20:30.584395Z"
    }
   }
  },
  {
   "cell_type": "code",
   "execution_count": 9,
   "outputs": [
    {
     "data": {
      "text/plain": "-6.893025972947504"
     },
     "execution_count": 9,
     "metadata": {},
     "output_type": "execute_result"
    }
   ],
   "source": [
    "true_xi"
   ],
   "metadata": {
    "collapsed": false,
    "ExecuteTime": {
     "start_time": "2023-05-27T00:20:30.354670Z",
     "end_time": "2023-05-27T00:20:30.640108Z"
    }
   }
  },
  {
   "cell_type": "code",
   "execution_count": 10,
   "outputs": [],
   "source": [
    "final_obj = []\n",
    "for i in range(N):\n",
    "    final_obj.append(first_st_sol[i] + second_st_sol_un[i] - second_st_sol_ov[i])"
   ],
   "metadata": {
    "collapsed": false,
    "ExecuteTime": {
     "start_time": "2023-05-27T00:20:30.362377Z",
     "end_time": "2023-05-27T00:20:30.671235Z"
    }
   }
  },
  {
   "cell_type": "code",
   "execution_count": 11,
   "outputs": [
    {
     "data": {
      "text/plain": "<Figure size 640x480 with 1 Axes>",
      "image/png": "[encoded data removed]"
     },
     "metadata": {},
     "output_type": "display_data"
    }
   ],
   "source": [
    "import matplotlib.pyplot as plt\n",
    "\n",
    "plt.hist(final_obj, bins=100)\n",
    "plt.show()"
   ],
   "metadata": {
    "collapsed": false,
    "ExecuteTime": {
     "start_time": "2023-05-27T00:20:30.387299Z",
     "end_time": "2023-05-27T00:20:31.469385Z"
    }
   }
  },
  {
   "cell_type": "code",
   "execution_count": 12,
   "outputs": [
    {
     "name": "stdout",
     "output_type": "stream",
     "text": [
      "Mean:  26.512976136240795\n",
      "Standard deviation:  1.1235112795438251\n",
      "Minimum:  25.178619948059534\n",
      "Maximum:  29.124681532368687\n"
     ]
    }
   ],
   "source": [
    "print(\"Mean: \", np.mean(final_obj))\n",
    "print(\"Standard deviation: \", np.std(final_obj))\n",
    "print(\"Minimum: \", min(final_obj))\n",
    "print(\"Maximum: \", max(final_obj))"
   ],
   "metadata": {
    "collapsed": false,
    "ExecuteTime": {
     "start_time": "2023-05-27T00:20:31.473757Z",
     "end_time": "2023-05-27T00:20:31.601680Z"
    }
   }
  },
  {
   "cell_type": "code",
   "execution_count": 13,
   "outputs": [
    {
     "data": {
      "text/plain": "<Figure size 640x480 with 1 Axes>",
      "image/png": "[encoded data removed]"
     },
     "metadata": {},
     "output_type": "display_data"
    }
   ],
   "source": [
    "plt.hist(xis, bins=100)\n",
    "plt.show()"
   ],
   "metadata": {
    "collapsed": false,
    "ExecuteTime": {
     "start_time": "2023-05-27T00:20:31.515293Z",
     "end_time": "2023-05-27T00:20:31.760601Z"
    }
   }
  },
  {
   "cell_type": "code",
   "execution_count": 14,
   "outputs": [],
   "source": [
    "max_arg = np.argmax(final_obj)\n",
    "min_arg = np.argmin(final_obj)"
   ],
   "metadata": {
    "collapsed": false,
    "ExecuteTime": {
     "start_time": "2023-05-27T00:20:31.702047Z",
     "end_time": "2023-05-27T00:20:31.760938Z"
    }
   }
  },
  {
   "cell_type": "code",
   "execution_count": 15,
   "outputs": [
    {
     "data": {
      "text/plain": "(-6.893234257277605, 6.997360776223635)"
     },
     "execution_count": 15,
     "metadata": {},
     "output_type": "execute_result"
    }
   ],
   "source": [
    "xis[max_arg], xis[min_arg]"
   ],
   "metadata": {
    "collapsed": false,
    "ExecuteTime": {
     "start_time": "2023-05-27T00:20:31.702226Z",
     "end_time": "2023-05-27T00:20:31.761364Z"
    }
   }
  },
  {
   "cell_type": "code",
   "execution_count": 16,
   "outputs": [],
   "source": [
    "max_xi = xis[max_arg]"
   ],
   "metadata": {
    "collapsed": false,
    "ExecuteTime": {
     "start_time": "2023-05-27T00:20:31.702437Z",
     "end_time": "2023-05-27T00:20:31.761585Z"
    }
   }
  },
  {
   "cell_type": "code",
   "execution_count": 17,
   "outputs": [
    {
     "data": {
      "text/plain": "29.124803031561246"
     },
     "execution_count": 17,
     "metadata": {},
     "output_type": "execute_result"
    }
   ],
   "source": [
    "x, obj = first_stage_solution(c, a, b + true_xi)\n",
    "obj"
   ],
   "metadata": {
    "collapsed": false,
    "ExecuteTime": {
     "start_time": "2023-05-27T00:20:31.702610Z",
     "end_time": "2023-05-27T00:20:31.762006Z"
    }
   }
  },
  {
   "cell_type": "code",
   "execution_count": 18,
   "outputs": [],
   "source": [
    "def sample_average_approximation_robust(\n",
    "    a, c, b, nu, sigma, epsilon, d, c_redused, N, polarity\n",
    "):\n",
    "    first_st_sol = []\n",
    "    second_st_sol_un = []\n",
    "    second_st_sol_ov = []\n",
    "    xis = []\n",
    "\n",
    "    distribution = norm(loc=nu, scale=sigma)\n",
    "\n",
    "    true_xi = distribution.rvs()\n",
    "    while abs(true_xi) > epsilon:\n",
    "        true_xi = distribution.rvs()\n",
    "\n",
    "    true_b = b + true_xi\n",
    "\n",
    "    for i in range(N):\n",
    "        xi = distribution.rvs()\n",
    "        while abs(xi) > epsilon:\n",
    "            xi = distribution.rvs()\n",
    "        b_stochastic = b + xi\n",
    "\n",
    "        if polarity == \"underload\":\n",
    "            b_stochastic -= epsilon\n",
    "        elif polarity == \"overload\":\n",
    "            b_stochastic += epsilon\n",
    "        else:\n",
    "            raise NotImplemented\n",
    "\n",
    "        x, obj = first_stage_solution(c, a, b_stochastic)\n",
    "        y_plus, obj_plus = second_stage_solution_underloaded(c_redused, a, x, true_b)\n",
    "        y_minus, obj_minus = second_stage_solution_overloaded(d, x, a, true_b)\n",
    "\n",
    "        first_st_sol.append(obj)\n",
    "        second_st_sol_un.append(obj_plus)\n",
    "        second_st_sol_ov.append(obj_minus)\n",
    "        xis.append(xi)\n",
    "    return first_st_sol, second_st_sol_un, second_st_sol_ov, xis, true_xi"
   ],
   "metadata": {
    "collapsed": false,
    "ExecuteTime": {
     "start_time": "2023-05-27T00:20:31.702806Z",
     "end_time": "2023-05-27T00:20:31.762208Z"
    }
   }
  },
  {
   "cell_type": "code",
   "execution_count": 19,
   "outputs": [],
   "source": [
    "d = 10\n",
    "c_redused = [-c[i] for i in range(n)]  # cost of underloading the knapsack"
   ],
   "metadata": {
    "collapsed": false,
    "ExecuteTime": {
     "start_time": "2023-05-27T00:20:31.703189Z",
     "end_time": "2023-05-27T00:20:31.762350Z"
    }
   }
  },
  {
   "cell_type": "code",
   "execution_count": 20,
   "outputs": [
    {
     "data": {
      "text/plain": "2.199575745520501"
     },
     "execution_count": 20,
     "metadata": {},
     "output_type": "execute_result"
    }
   ],
   "source": [
    "(\n",
    "    first_st_sol,\n",
    "    second_st_sol_un,\n",
    "    second_st_sol_ov,\n",
    "    xis,\n",
    "    true_xi,\n",
    ") = sample_average_approximation_robust(\n",
    "    a, c, b, nu, sigma, epsilon, d, c_redused, N, \"underload\"\n",
    ")\n",
    "true_xi"
   ],
   "metadata": {
    "collapsed": false,
    "ExecuteTime": {
     "start_time": "2023-05-27T00:20:31.703337Z",
     "end_time": "2023-05-27T00:20:49.957861Z"
    }
   }
  },
  {
   "cell_type": "code",
   "execution_count": 21,
   "outputs": [],
   "source": [
    "final_obj = []\n",
    "for i in range(N):\n",
    "    final_obj.append(first_st_sol[i] + second_st_sol_un[i] - second_st_sol_ov[i])"
   ],
   "metadata": {
    "collapsed": false,
    "ExecuteTime": {
     "start_time": "2023-05-27T00:20:49.915325Z",
     "end_time": "2023-05-27T00:20:49.974074Z"
    }
   }
  },
  {
   "cell_type": "code",
   "execution_count": 22,
   "outputs": [
    {
     "name": "stdout",
     "output_type": "stream",
     "text": [
      "Mean:  27.966100773935825\n",
      "Standard deviation:  6.322484540153514\n",
      "Minimum:  10.018419711943142\n",
      "Maximum:  37.12440096521835\n"
     ]
    }
   ],
   "source": [
    "print(\"Mean: \", np.mean(final_obj))\n",
    "print(\"Standard deviation: \", np.std(final_obj))\n",
    "print(\"Minimum: \", min(final_obj))\n",
    "print(\"Maximum: \", max(final_obj))"
   ],
   "metadata": {
    "collapsed": false,
    "ExecuteTime": {
     "start_time": "2023-05-27T00:20:49.915449Z",
     "end_time": "2023-05-27T00:20:49.975229Z"
    }
   }
  },
  {
   "cell_type": "code",
   "execution_count": 23,
   "outputs": [
    {
     "data": {
      "text/plain": "39.59952271371056"
     },
     "execution_count": 23,
     "metadata": {},
     "output_type": "execute_result"
    }
   ],
   "source": [
    "x, obj = first_stage_solution(c, a, b + true_xi)\n",
    "obj"
   ],
   "metadata": {
    "collapsed": false,
    "ExecuteTime": {
     "start_time": "2023-05-27T00:20:49.915593Z",
     "end_time": "2023-05-27T00:20:49.977314Z"
    }
   }
  },
  {
   "cell_type": "code",
   "execution_count": 24,
   "outputs": [
    {
     "data": {
      "text/plain": "-5.444754071839841"
     },
     "execution_count": 24,
     "metadata": {},
     "output_type": "execute_result"
    }
   ],
   "source": [
    "(\n",
    "    first_st_sol,\n",
    "    second_st_sol_un,\n",
    "    second_st_sol_ov,\n",
    "    xis,\n",
    "    true_xi,\n",
    ") = sample_average_approximation_robust(\n",
    "    a, c, b, nu, sigma, epsilon, d, c_redused, N, \"overload\"\n",
    ")\n",
    "true_xi"
   ],
   "metadata": {
    "collapsed": false,
    "ExecuteTime": {
     "start_time": "2023-05-27T00:20:49.915718Z",
     "end_time": "2023-05-27T00:21:04.061936Z"
    }
   }
  },
  {
   "cell_type": "code",
   "execution_count": 25,
   "outputs": [],
   "source": [
    "final_obj = []\n",
    "for i in range(N):\n",
    "    final_obj.append(first_st_sol[i] + second_st_sol_un[i] - second_st_sol_ov[i])"
   ],
   "metadata": {
    "collapsed": false,
    "ExecuteTime": {
     "start_time": "2023-05-27T00:21:04.066436Z",
     "end_time": "2023-05-27T00:21:04.137614Z"
    }
   }
  },
  {
   "cell_type": "code",
   "execution_count": 26,
   "outputs": [
    {
     "name": "stdout",
     "output_type": "stream",
     "text": [
      "Mean:  25.765851821223173\n",
      "Standard deviation:  2.889193905426467\n",
      "Minimum:  19.39671535010544\n",
      "Maximum:  28.466874464926672\n"
     ]
    }
   ],
   "source": [
    "print(\"Mean: \", np.mean(final_obj))\n",
    "print(\"Standard deviation: \", np.std(final_obj))\n",
    "print(\"Minimum: \", min(final_obj))\n",
    "print(\"Maximum: \", max(final_obj))"
   ],
   "metadata": {
    "collapsed": false,
    "ExecuteTime": {
     "start_time": "2023-05-27T00:21:04.108905Z",
     "end_time": "2023-05-27T00:21:04.144908Z"
    }
   }
  },
  {
   "cell_type": "code",
   "execution_count": 27,
   "outputs": [
    {
     "data": {
      "text/plain": "30.814453582853517"
     },
     "execution_count": 27,
     "metadata": {},
     "output_type": "execute_result"
    }
   ],
   "source": [
    "x, obj = first_stage_solution(c, a, b + true_xi)\n",
    "obj"
   ],
   "metadata": {
    "collapsed": false,
    "ExecuteTime": {
     "start_time": "2023-05-27T00:21:04.109016Z",
     "end_time": "2023-05-27T00:21:04.145738Z"
    }
   }
  },
  {
   "cell_type": "code",
   "execution_count": 76,
   "outputs": [],
   "source": [
    "d = 12\n",
    "c_redused = [c[i] / 2 for i in range(n)]  # cost of underloading the knapsack"
   ],
   "metadata": {
    "collapsed": false,
    "ExecuteTime": {
     "start_time": "2023-05-27T00:53:41.383186Z",
     "end_time": "2023-05-27T00:53:41.439144Z"
    }
   }
  },
  {
   "cell_type": "code",
   "execution_count": 77,
   "outputs": [],
   "source": [
    "def true_fixed(\n",
    "        a, c, b, nu, sigma, epsilon, d, c_redused, N, polarity, true\n",
    "):\n",
    "    first_st_sol = []\n",
    "    second_st_sol_un = []\n",
    "    second_st_sol_ov = []\n",
    "    xis = []\n",
    "\n",
    "    distribution = norm(loc=nu, scale=sigma)\n",
    "\n",
    "    # true_xi = distribution.rvs()\n",
    "    # while abs(true_xi) > epsilon:\n",
    "    #     true_xi = distribution.rvs()\n",
    "\n",
    "    # true_b = b + true_xi\n",
    "\n",
    "    true_b = b + true\n",
    "\n",
    "    for i in range(N):\n",
    "        xi = distribution.rvs()\n",
    "        while abs(xi) > epsilon:\n",
    "            xi = distribution.rvs()\n",
    "        b_stochastic = b + xi\n",
    "\n",
    "        if polarity == \"underload\":\n",
    "            b_stochastic -= epsilon\n",
    "        elif polarity == \"overload\":\n",
    "            b_stochastic += epsilon\n",
    "        else:\n",
    "            raise NotImplemented\n",
    "\n",
    "        x, obj = first_stage_solution(c, a, b_stochastic)\n",
    "        y_plus, obj_plus = second_stage_solution_underloaded(c_redused, a, x, true_b)\n",
    "        y_minus, obj_minus = second_stage_solution_overloaded(d, x, a, true_b)\n",
    "\n",
    "        first_st_sol.append(obj)\n",
    "        second_st_sol_un.append(obj_plus)\n",
    "        second_st_sol_ov.append(obj_minus)\n",
    "        xis.append(xi)\n",
    "    return first_st_sol, second_st_sol_un, second_st_sol_ov, xis, true_xi"
   ],
   "metadata": {
    "collapsed": false,
    "ExecuteTime": {
     "start_time": "2023-05-27T00:53:41.602886Z",
     "end_time": "2023-05-27T00:53:41.651834Z"
    }
   }
  },
  {
   "cell_type": "code",
   "execution_count": 78,
   "outputs": [],
   "source": [
    "true_xis = [-7, -5, -3, -1, 1, 3, 5, 7]"
   ],
   "metadata": {
    "collapsed": false,
    "ExecuteTime": {
     "start_time": "2023-05-27T00:53:41.802675Z",
     "end_time": "2023-05-27T00:53:41.845021Z"
    }
   }
  },
  {
   "cell_type": "code",
   "execution_count": 79,
   "outputs": [],
   "source": [
    "means_under = []\n",
    "means_over = []\n",
    "\n",
    "for elem in true_xis:\n",
    "    (\n",
    "        first_st_sol,\n",
    "        second_st_sol_un,\n",
    "        second_st_sol_ov,\n",
    "        xis,\n",
    "        true_xi,\n",
    "    ) = true_fixed(\n",
    "        a, c, b, nu, sigma, epsilon, d, c_redused, 1000, \"underload\", elem\n",
    "    )\n",
    "    final_obj = []\n",
    "    for i in range(1000):\n",
    "        final_obj.append(first_st_sol[i] + second_st_sol_un[i] - second_st_sol_ov[i])\n",
    "    means_under.append(np.mean(final_obj))\n",
    "\n",
    "    (\n",
    "        first_st_sol,\n",
    "        second_st_sol_un,\n",
    "        second_st_sol_ov,\n",
    "        xis,\n",
    "        true_xi,\n",
    "    ) = true_fixed(\n",
    "        a, c, b, nu, sigma, epsilon, d, c_redused, 1000, \"overload\", elem\n",
    "    )\n",
    "\n",
    "    final_obj = []\n",
    "    for i in range(1000):\n",
    "        final_obj.append(first_st_sol[i] + second_st_sol_un[i] - second_st_sol_ov[i])\n",
    "    means_over.append(np.mean(final_obj))"
   ],
   "metadata": {
    "collapsed": false,
    "ExecuteTime": {
     "start_time": "2023-05-27T00:53:42.341288Z",
     "end_time": "2023-05-27T00:53:59.685691Z"
    }
   }
  },
  {
   "cell_type": "code",
   "execution_count": 82,
   "outputs": [],
   "source": [
    "true_bs = [b + elem for elem in true_xis]"
   ],
   "metadata": {
    "collapsed": false,
    "ExecuteTime": {
     "start_time": "2023-05-27T00:53:59.706851Z",
     "end_time": "2023-05-27T00:53:59.738982Z"
    }
   }
  },
  {
   "cell_type": "code",
   "execution_count": 83,
   "outputs": [],
   "source": [
    "true_obj = []\n",
    "for elem in true_bs:\n",
    "    x, obj = first_stage_solution(c, a, elem)\n",
    "    true_obj.append(obj)"
   ],
   "metadata": {
    "collapsed": false,
    "ExecuteTime": {
     "start_time": "2023-05-27T00:53:59.710995Z",
     "end_time": "2023-05-27T00:53:59.750491Z"
    }
   }
  },
  {
   "cell_type": "code",
   "execution_count": 90,
   "outputs": [
    {
     "data": {
      "text/plain": "[29.0, 31.333333333333332, 33.666666666666664, 36.0, 38.25, 40.5, 42.75, 45.0]"
     },
     "execution_count": 90,
     "metadata": {},
     "output_type": "execute_result"
    }
   ],
   "source": [
    "true_obj"
   ],
   "metadata": {
    "collapsed": false,
    "ExecuteTime": {
     "start_time": "2023-05-27T00:58:45.945883Z",
     "end_time": "2023-05-27T00:58:45.988489Z"
    }
   }
  },
  {
   "cell_type": "code",
   "execution_count": 84,
   "outputs": [
    {
     "data": {
      "text/plain": "<Figure size 640x480 with 1 Axes>",
      "image/png": "[encoded data removed]"
     },
     "metadata": {},
     "output_type": "display_data"
    }
   ],
   "source": [
    "# plot under, over, true\n",
    "\n",
    "plt.plot(true_xis, means_under, label=\"Underloaded\")\n",
    "plt.plot(true_xis, means_over, label=\"Overloaded\")\n",
    "plt.plot(true_xis, true_obj, label=\"True\")\n",
    "plt.legend()\n",
    "plt.xlabel(\"True xi\")\n",
    "plt.ylabel(\"Objective\")\n",
    "plt.title(\"True xi vs Objective\")\n",
    "plt.show()"
   ],
   "metadata": {
    "collapsed": false,
    "ExecuteTime": {
     "start_time": "2023-05-27T00:53:59.758254Z",
     "end_time": "2023-05-27T00:53:59.890095Z"
    }
   }
  },
  {
   "cell_type": "code",
   "execution_count": 85,
   "outputs": [],
   "source": [
    "d = 50\n",
    "c_redused = [c[i] / 2 for i in range(n)]  # cost of underloading the knapsack"
   ],
   "metadata": {
    "collapsed": false,
    "ExecuteTime": {
     "start_time": "2023-05-27T00:54:28.663913Z",
     "end_time": "2023-05-27T00:54:28.711234Z"
    }
   }
  },
  {
   "cell_type": "code",
   "execution_count": 86,
   "outputs": [],
   "source": [
    "means_under = []\n",
    "means_over = []\n",
    "\n",
    "for elem in true_xis:\n",
    "    (\n",
    "        first_st_sol,\n",
    "        second_st_sol_un,\n",
    "        second_st_sol_ov,\n",
    "        xis,\n",
    "        true_xi,\n",
    "    ) = true_fixed(\n",
    "        a, c, b, nu, sigma, epsilon, d, c_redused, 1000, \"underload\", elem\n",
    "    )\n",
    "    final_obj = []\n",
    "    for i in range(1000):\n",
    "        final_obj.append(first_st_sol[i] + second_st_sol_un[i] - second_st_sol_ov[i])\n",
    "    means_under.append(np.mean(final_obj))\n",
    "\n",
    "    (\n",
    "        first_st_sol,\n",
    "        second_st_sol_un,\n",
    "        second_st_sol_ov,\n",
    "        xis,\n",
    "        true_xi,\n",
    "    ) = true_fixed(\n",
    "        a, c, b, nu, sigma, epsilon, d, c_redused, 1000, \"overload\", elem\n",
    "    )\n",
    "\n",
    "    final_obj = []\n",
    "    for i in range(1000):\n",
    "        final_obj.append(first_st_sol[i] + second_st_sol_un[i] - second_st_sol_ov[i])\n",
    "    means_over.append(np.mean(final_obj))"
   ],
   "metadata": {
    "collapsed": false,
    "ExecuteTime": {
     "start_time": "2023-05-27T00:54:28.961436Z",
     "end_time": "2023-05-27T00:54:47.108256Z"
    }
   }
  },
  {
   "cell_type": "code",
   "execution_count": 87,
   "outputs": [
    {
     "data": {
      "text/plain": "<Figure size 640x480 with 1 Axes>",
      "image/png": "[encoded data removed]"
     },
     "metadata": {},
     "output_type": "display_data"
    }
   ],
   "source": [
    "# plot under, over, true\n",
    "\n",
    "plt.plot(true_xis, means_under, label=\"Underloaded\")\n",
    "plt.plot(true_xis, means_over, label=\"Overloaded\")\n",
    "plt.plot(true_xis, true_obj, label=\"True\")\n",
    "plt.legend()\n",
    "plt.xlabel(\"True xi\")\n",
    "plt.ylabel(\"Objective\")\n",
    "plt.title(\"True xi vs Objective\")\n",
    "plt.show()"
   ],
   "metadata": {
    "collapsed": false,
    "ExecuteTime": {
     "start_time": "2023-05-27T00:54:47.151771Z",
     "end_time": "2023-05-27T00:54:47.203237Z"
    }
   }
  },
  {
   "cell_type": "code",
   "execution_count": 88,
   "outputs": [],
   "source": [
    "d = 10\n",
    "c_redused = [-c[i] * 2 for i in range(n)]  # cost of underloading the knapsack\n",
    "means_under = []\n",
    "means_over = []\n",
    "\n",
    "for elem in true_xis:\n",
    "    (\n",
    "        first_st_sol,\n",
    "        second_st_sol_un,\n",
    "        second_st_sol_ov,\n",
    "        xis,\n",
    "        true_xi,\n",
    "    ) = true_fixed(\n",
    "        a, c, b, nu, sigma, epsilon, d, c_redused, 1000, \"underload\", elem\n",
    "    )\n",
    "    final_obj = []\n",
    "    for i in range(1000):\n",
    "        final_obj.append(first_st_sol[i] + second_st_sol_un[i] - second_st_sol_ov[i])\n",
    "    means_under.append(np.mean(final_obj))\n",
    "\n",
    "    (\n",
    "        first_st_sol,\n",
    "        second_st_sol_un,\n",
    "        second_st_sol_ov,\n",
    "        xis,\n",
    "        true_xi,\n",
    "    ) = true_fixed(\n",
    "        a, c, b, nu, sigma, epsilon, d, c_redused, 1000, \"overload\", elem\n",
    "    )\n",
    "\n",
    "    final_obj = []\n",
    "    for i in range(1000):\n",
    "        final_obj.append(first_st_sol[i] + second_st_sol_un[i] - second_st_sol_ov[i])\n",
    "    means_over.append(np.mean(final_obj))"
   ],
   "metadata": {
    "collapsed": false,
    "ExecuteTime": {
     "start_time": "2023-05-27T00:55:19.636456Z",
     "end_time": "2023-05-27T00:55:40.662187Z"
    }
   }
  },
  {
   "cell_type": "code",
   "execution_count": 89,
   "outputs": [
    {
     "data": {
      "text/plain": "<Figure size 640x480 with 1 Axes>",
      "image/png": "[encoded data removed]"
     },
     "metadata": {},
     "output_type": "display_data"
    }
   ],
   "source": [
    "# plot under, over, true\n",
    "\n",
    "plt.plot(true_xis, means_under, label=\"Underloaded\")\n",
    "plt.plot(true_xis, means_over, label=\"Overloaded\")\n",
    "plt.plot(true_xis, true_obj, label=\"True\")\n",
    "plt.legend()\n",
    "plt.xlabel(\"True xi\")\n",
    "plt.ylabel(\"Objective\")\n",
    "plt.title(\"True xi vs Objective\")\n",
    "plt.show()"
   ],
   "metadata": {
    "collapsed": false,
    "ExecuteTime": {
     "start_time": "2023-05-27T00:55:40.708165Z",
     "end_time": "2023-05-27T00:55:40.764792Z"
    }
   }
  }
 ],
 "metadata": {
  "kernelspec": {
   "display_name": "Python 3",
   "language": "python",
   "name": "python3"
  },
  "language_info": {
   "codemirror_mode": {
    "name": "ipython",
    "version": 2
   },
   "file_extension": ".py",
   "mimetype": "text/x-python",
   "name": "python",
   "nbconvert_exporter": "python",
   "pygments_lexer": "ipython2",
   "version": "2.7.6"
  }
 },
 "nbformat": 4,
 "nbformat_minor": 0
}
